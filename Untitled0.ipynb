{
  "cells": [
    {
      "cell_type": "markdown",
      "metadata": {
        "id": "view-in-github",
        "colab_type": "text"
      },
      "source": [
        "<a href=\"https://colab.research.google.com/github/karthikamnambiar/Hello-World/blob/master/Untitled0.ipynb\" target=\"_parent\"><img src=\"https://colab.research.google.com/assets/colab-badge.svg\" alt=\"Open In Colab\"/></a>"
      ]
    },
    {
      "cell_type": "code",
      "execution_count": null,
      "metadata": {
        "colab": {
          "base_uri": "https://localhost:8080/"
        },
        "id": "nAWu5Qee0BHt",
        "outputId": "2164540c-652a-4442-fd5e-09525039e2dd"
      },
      "outputs": [
        {
          "name": "stdout",
          "output_type": "stream",
          "text": [
            "enter a two digit number34\n",
            "7\n"
          ]
        }
      ],
      "source": [
        "two_digit_number = input(\"enter a two digit number\")\n",
        "first_digit=int(two_digit_number[0])\n",
        "second_digit=int(two_digit_number[1])\n",
        "sum=first_digit+second_digit\n",
        "print(sum)"
      ]
    },
    {
      "cell_type": "code",
      "execution_count": null,
      "metadata": {
        "colab": {
          "base_uri": "https://localhost:8080/"
        },
        "id": "flMkyDSQ9h8U",
        "outputId": "de5e1650-9523-484a-bb38-f821172d180d"
      },
      "outputs": [
        {
          "name": "stdout",
          "output_type": "stream",
          "text": [
            "<class 'str'>\n"
          ]
        }
      ],
      "source": [
        "a=\"9\"\n",
        "print(type(a))"
      ]
    },
    {
      "cell_type": "code",
      "execution_count": null,
      "metadata": {
        "colab": {
          "base_uri": "https://localhost:8080/"
        },
        "id": "1d4d43cGPWy1",
        "outputId": "fb75e50a-e2e4-410c-cf9f-3e5d03244b26"
      },
      "outputs": [
        {
          "name": "stdout",
          "output_type": "stream",
          "text": [
            "Welcome to tip calculator\n",
            "Enter bill amount you got150\n",
            "Whats the percent of tip you want to give? 10,12 or 1512\n",
            "Enter number of people5\n",
            "The total bill amount is 168.0 and each person should pay 33.60\n"
          ]
        }
      ],
      "source": [
        "print(\"Welcome to tip calculator\")\n",
        "bill=float(input(\"Enter bill amount you got\"))\n",
        "tip=int(input(\"Whats the percent of tip you want to give? 10,12 or 15\"))\n",
        "no_of_people=int(input(\"Enter number of people\"))\n",
        "total_bill=bill+(bill*(tip/100))\n",
        "bill_per_person=\"{:.2f}\".format(total_bill/no_of_people,2)\n",
        "print(f'The total bill amount is {total_bill} and each person should pay {bill_per_person}')\n",
        "\n"
      ]
    },
    {
      "cell_type": "code",
      "execution_count": null,
      "metadata": {
        "colab": {
          "background_save": true,
          "base_uri": "https://localhost:8080/"
        },
        "id": "noi29Cq2KNPq",
        "outputId": "ec47a6e0-ccc6-4ff8-a855-a02c9df63e3a"
      },
      "outputs": [
        {
          "name": "stdout",
          "output_type": "stream",
          "text": [
            "heyy welcome to rollercoaster\n"
          ]
        }
      ],
      "source": [
        "print(\"heyy welcome to rollercoaster\")\n",
        "height=int(input(\"Please enter your height\"))\n",
        "age=int(input(\"enter your age\"))\n",
        "bill=0\n",
        "\n",
        "if height<=120:\n",
        "  print(\"sorry You Cannot have rollercoaster ride\")\n",
        "else:\n",
        "  if age<12:\n",
        "    bill+=5\n",
        "    print(\"your ticket is $5\")\n",
        "  elif age<18:\n",
        "    bill+=7\n",
        "    print(\"your ticket is $7\")\n",
        "  elif age>45 and age<55:\n",
        "    print (\"Free ticketsssss\")\n",
        "  else:\n",
        "    bill+=12\n",
        "    print(\"your ticket has $12\")\n",
        "pic_bill=input(\"do you want a picture?Y or N\")\n",
        "if pic_bill==\"Y\":\n",
        "   bill=bill+3\n",
        "print(f\"Total amount is {bill}\")\n"
      ]
    },
    {
      "cell_type": "code",
      "source": [
        "print('''\n",
        "*******************************************************************************\n",
        "          |                   |                  |                     |\n",
        " _________|________________.=\"\"_;=.______________|_____________________|_______\n",
        "|                   |  ,-\"_,=\"\"     `\"=.|                  |\n",
        "|___________________|__\"=._o`\"-._        `\"=.______________|___________________\n",
        "          |                `\"=._o`\"=._      _`\"=._                     |\n",
        " _________|_____________________:=._o \"=._.\"_.-=\"'\"=.__________________|_______\n",
        "|                   |    __.--\" , ; `\"=._o.\" ,-\"\"\"-._ \".   |\n",
        "|___________________|_._\"  ,. .` ` `` ,  `\"-._\"-._   \". '__|___________________\n",
        "          |           |o`\"=._` , \"` `; .\". ,  \"-._\"-._; ;              |\n",
        " _________|___________| ;`-.o`\"=._; .\" ` '`.\"\\` . \"-._ /_______________|_______\n",
        "|                   | |o;    `\"-.o`\"=._``  '` \" ,__.--o;   |\n",
        "|___________________|_| ;     (#) `-.o `\"=.`_.--\"_o.-; ;___|___________________\n",
        "____/______/______/___|o;._    \"      `\".o|o_.--\"    ;o;____/______/______/____\n",
        "/______/______/______/_\"=._o--._        ; | ;        ; ;/______/______/______/_\n",
        "____/______/______/______/__\"=._o--._   ;o|o;     _._;o;____/______/______/____\n",
        "/______/______/______/______/____\"=._o._; | ;_.--\"o.--\"_/______/______/______/_\n",
        "____/______/______/______/______/_____\"=.o|o_.--\"\"___/______/______/______/____\n",
        "/______/______/______/______/______/______/______/______/______/______/_____ /\n",
        "*******************************************************************************\n",
        "''')\n",
        "print(\"Welcome to Treasure Island.\")\n",
        "print(\"Your mission is to find the treasure.\")\n",
        "step1 = input(\"In which direction you want to move?Left or Right\").lower()\n",
        "\n",
        "if step1==\"left\":\n",
        "  step2=input(\"You want to swim the river or wait for the boat?Type swim or wait\").lower()\n",
        "  if step2==\"wait\":\n",
        "    step3=input(\"Which door you want to open now?Red,Blue or Yellow\").lower()\n",
        "    if step3==\"red\":\n",
        "      print(\"Game Over\")\n",
        "    elif step3==\"blue\":\n",
        "       print(\"Game Over\")\n",
        "    else :\n",
        "      print(\"You win,You got Treasure\")\n",
        "\n",
        "  else:\n",
        "    print(\"Game Over\")\n",
        "\n",
        "else:\n",
        "   print(\"Game Over\")\n",
        "\n"
      ],
      "metadata": {
        "colab": {
          "base_uri": "https://localhost:8080/"
        },
        "id": "AKy1TB_riFTS",
        "outputId": "bfd097a0-8934-4c1a-966e-ea92361c478f"
      },
      "execution_count": 11,
      "outputs": [
        {
          "output_type": "stream",
          "name": "stdout",
          "text": [
            "\n",
            "*******************************************************************************\n",
            "          |                   |                  |                     |\n",
            " _________|________________.=\"\"_;=.______________|_____________________|_______\n",
            "|                   |  ,-\"_,=\"\"     `\"=.|                  |\n",
            "|___________________|__\"=._o`\"-._        `\"=.______________|___________________\n",
            "          |                `\"=._o`\"=._      _`\"=._                     |\n",
            " _________|_____________________:=._o \"=._.\"_.-=\"'\"=.__________________|_______\n",
            "|                   |    __.--\" , ; `\"=._o.\" ,-\"\"\"-._ \".   |\n",
            "|___________________|_._\"  ,. .` ` `` ,  `\"-._\"-._   \". '__|___________________\n",
            "          |           |o`\"=._` , \"` `; .\". ,  \"-._\"-._; ;              |\n",
            " _________|___________| ;`-.o`\"=._; .\" ` '`.\"\\` . \"-._ /_______________|_______\n",
            "|                   | |o;    `\"-.o`\"=._``  '` \" ,__.--o;   |\n",
            "|___________________|_| ;     (#) `-.o `\"=.`_.--\"_o.-; ;___|___________________\n",
            "____/______/______/___|o;._    \"      `\".o|o_.--\"    ;o;____/______/______/____\n",
            "/______/______/______/_\"=._o--._        ; | ;        ; ;/______/______/______/_\n",
            "____/______/______/______/__\"=._o--._   ;o|o;     _._;o;____/______/______/____\n",
            "/______/______/______/______/____\"=._o._; | ;_.--\"o.--\"_/______/______/______/_\n",
            "____/______/______/______/______/_____\"=.o|o_.--\"\"___/______/______/______/____\n",
            "/______/______/______/______/______/______/______/______/______/______/_____ /\n",
            "*******************************************************************************\n",
            "\n",
            "Welcome to Treasure Island.\n",
            "Your mission is to find the treasure.\n",
            "In which direction you want to move?Left or Rightright\n",
            "Game Over\n"
          ]
        }
      ]
    },
    {
      "cell_type": "code",
      "source": [
        "import random\n",
        "name1=input(\"enter your name\")\n",
        "name2=input(\"enter your lover\\'s name\")\n",
        "score=random.randint(0,101)\n",
        "print(f\"Your love score is {score}\")\n"
      ],
      "metadata": {
        "colab": {
          "base_uri": "https://localhost:8080/"
        },
        "id": "IScMPywVwjeV",
        "outputId": "ad36abeb-1ec3-4643-b167-2f398f5653e3"
      },
      "execution_count": 13,
      "outputs": [
        {
          "output_type": "stream",
          "name": "stdout",
          "text": [
            "enter your namekarthika\n",
            "enter your lover's namejohny\n",
            "Your love score is 88\n"
          ]
        }
      ]
    },
    {
      "cell_type": "code",
      "source": [
        "import random\n",
        "names=[\"Angela\", \"Ben\", \"Jenny\",\"Michael\", \"Chloe\"]\n",
        "number=random.randint(0,5)\n",
        "selected_one=names[number]\n",
        "print(f\"{selected_one} is going to buy the meal today!\" )"
      ],
      "metadata": {
        "colab": {
          "base_uri": "https://localhost:8080/"
        },
        "id": "spchxZT02KXw",
        "outputId": "8e2c9ed9-bf2e-442b-c856-b27360a36e45"
      },
      "execution_count": 15,
      "outputs": [
        {
          "output_type": "stream",
          "name": "stdout",
          "text": [
            "Chloe is going to buy the meal today!\n"
          ]
        }
      ]
    },
    {
      "cell_type": "code",
      "source": [
        "rock = '''\n",
        "    _______\n",
        "---'   ____)\n",
        "      (_____)\n",
        "      (_____)\n",
        "      (____)\n",
        "---.__(___)\n",
        "'''\n",
        "\n",
        "paper = '''\n",
        "    _______\n",
        "---'   ____)____\n",
        "          ______)\n",
        "          _______)\n",
        "         _______)\n",
        "---.__________)\n",
        "'''\n",
        "\n",
        "scissors = '''\n",
        "    _______\n",
        "---'   ____)____\n",
        "          ______)\n",
        "       __________)\n",
        "      (____)\n",
        "---.__(___)\n",
        "'''\n",
        "import random\n",
        "game_images=[rock,paper,scissors]\n",
        "user_choice=int(input(\"what do you choose? type 0 for rock,1 for papper and 2 for scissors \"))\n",
        "if user_choice>=3 or user_choice<=0:\n",
        "  print(\"type a valid number\")\n",
        "print(game_images[user_choice])\n",
        "\n",
        "computer_choice=random.randint(0,2)\n",
        "print(f\"computer chose{computer_choice}\")\n",
        "print(game_images[computer_choice])\n",
        "if user_choice==0 and computer_choice==2:\n",
        "  print(\"User wins\")\n",
        "elif user_choice==2 and computer_choice==0:\n",
        "  print(\"computer wins\")\n",
        "\n",
        "elif computer_choice>user_choice:\n",
        "  print(\"computer wins\")\n",
        "elif user_choice>computer_choice:\n",
        "  print(\"user wins\")\n",
        "else:\n",
        "  print(\"draw\")\n"
      ],
      "metadata": {
        "colab": {
          "base_uri": "https://localhost:8080/"
        },
        "id": "jRTQihA0rRBC",
        "outputId": "4baf2d45-4cfb-4ebf-e851-37489634656d"
      },
      "execution_count": 15,
      "outputs": [
        {
          "output_type": "stream",
          "name": "stdout",
          "text": [
            "what do you choose? type 0 for rock,1 for papper and 2 for scissors 2\n",
            "\n",
            "    _______\n",
            "---'   ____)____\n",
            "          ______)\n",
            "       __________)\n",
            "      (____)\n",
            "---.__(___)\n",
            "\n",
            "computer chose2\n",
            "\n",
            "    _______\n",
            "---'   ____)____\n",
            "          ______)\n",
            "       __________)\n",
            "      (____)\n",
            "---.__(___)\n",
            "\n",
            "draw\n"
          ]
        }
      ]
    }
  ],
  "metadata": {
    "colab": {
      "provenance": [],
      "authorship_tag": "ABX9TyP9lBoUgR3jL3C+NITPT66Q",
      "include_colab_link": true
    },
    "kernelspec": {
      "display_name": "Python 3",
      "name": "python3"
    },
    "language_info": {
      "name": "python"
    }
  },
  "nbformat": 4,
  "nbformat_minor": 0
}